{
 "cells": [
  {
   "cell_type": "markdown",
   "id": "c4bad480",
   "metadata": {},
   "source": [
    "# 01. Importing Libraries"
   ]
  },
  {
   "cell_type": "code",
   "execution_count": 2,
   "id": "fa60f452",
   "metadata": {},
   "outputs": [],
   "source": [
    "#import libraries\n",
    "\n",
    "import pandas as pd\n",
    "import numpy as np\n",
    "import os"
   ]
  },
  {
   "cell_type": "markdown",
   "id": "2861349d",
   "metadata": {},
   "source": [
    "# 02. Working with Python Data Types"
   ]
  },
  {
   "cell_type": "code",
   "execution_count": 3,
   "id": "efc74020",
   "metadata": {},
   "outputs": [
    {
     "name": "stdout",
     "output_type": "stream",
     "text": [
      "100\n"
     ]
    }
   ],
   "source": [
    "#Code 3 different ways of reaching a result of 100 by adding or subtracting numeric variables.\n",
    "n1 = 50\n",
    "n2 = 50\n",
    "print(n1+n2)"
   ]
  },
  {
   "cell_type": "code",
   "execution_count": 4,
   "id": "ce71012c",
   "metadata": {},
   "outputs": [
    {
     "name": "stdout",
     "output_type": "stream",
     "text": [
      "100\n"
     ]
    }
   ],
   "source": [
    "n1 = 200\n",
    "n2 = 100\n",
    "print(n1-n2)"
   ]
  },
  {
   "cell_type": "code",
   "execution_count": 7,
   "id": "9b432679",
   "metadata": {},
   "outputs": [
    {
     "name": "stdout",
     "output_type": "stream",
     "text": [
      "100\n"
     ]
    }
   ],
   "source": [
    "n1=10\n",
    "\n",
    "print(n1**2)"
   ]
  },
  {
   "cell_type": "code",
   "execution_count": 11,
   "id": "ec044d54",
   "metadata": {},
   "outputs": [
    {
     "name": "stdout",
     "output_type": "stream",
     "text": [
      "1.85\n"
     ]
    }
   ],
   "source": [
    "#Code 2 floating-point variables and divide them by each other.\n",
    "n1=2.4\n",
    "n2=1.3\n",
    "\n",
    "print(round(n1/n2,2))"
   ]
  },
  {
   "cell_type": "code",
   "execution_count": 16,
   "id": "9e4bee9c",
   "metadata": {},
   "outputs": [
    {
     "data": {
      "text/plain": [
       "'hello'"
      ]
     },
     "execution_count": 16,
     "metadata": {},
     "output_type": "execute_result"
    }
   ],
   "source": [
    "#Construct a short word made of separate strings (you’ll need to concatenate some strings!).\n",
    "mylist = ('hel', 1, 'lo')\n",
    "mylist[0] + mylist[2]"
   ]
  },
  {
   "cell_type": "code",
   "execution_count": 34,
   "id": "8401c4dd",
   "metadata": {},
   "outputs": [
    {
     "name": "stdout",
     "output_type": "stream",
     "text": [
      "what is your name? My name is logan.\n"
     ]
    }
   ],
   "source": [
    "#Construct 2 short sentences made of separate strings.\n",
    "a='My'\n",
    "b='name'\n",
    "c='is'\n",
    "d='logan'\n",
    "e='what'\n",
    "f='is'\n",
    "g='your'\n",
    "h='name'\n",
    "print(e+' '+f+' '+g+' '+h+'?'+' '+ a+' '+b+' '+c+' '+d +'.')"
   ]
  },
  {
   "cell_type": "code",
   "execution_count": 35,
   "id": "95c2e536",
   "metadata": {},
   "outputs": [
    {
     "name": "stdout",
     "output_type": "stream",
     "text": [
      "loganloganloganloganloganloganloganloganloganloganloganloganloganloganloganloganloganloganloganloganloganloganloganloganloganloganloganloganloganloganloganloganloganloganloganloganloganloganloganloganloganloganloganloganloganloganloganloganloganloganloganloganloganloganloganloganloganloganloganloganloganloganloganloganloganloganloganloganloganloganloganloganloganloganloganloganloganloganloganloganloganloganloganloganloganloganloganloganloganloganloganloganloganloganloganloganloganloganloganlogan\n"
     ]
    }
   ],
   "source": [
    "#Bonus Task\n",
    "#At the bottom of your file, include a command that makes a string appear 100 times.\n",
    "l = 'logan'\n",
    "print(l*100)"
   ]
  },
  {
   "cell_type": "code",
   "execution_count": null,
   "id": "a538eedd",
   "metadata": {},
   "outputs": [],
   "source": []
  }
 ],
 "metadata": {
  "kernelspec": {
   "display_name": "Python 3 (ipykernel)",
   "language": "python",
   "name": "python3"
  },
  "language_info": {
   "codemirror_mode": {
    "name": "ipython",
    "version": 3
   },
   "file_extension": ".py",
   "mimetype": "text/x-python",
   "name": "python",
   "nbconvert_exporter": "python",
   "pygments_lexer": "ipython3",
   "version": "3.9.12"
  }
 },
 "nbformat": 4,
 "nbformat_minor": 5
}
