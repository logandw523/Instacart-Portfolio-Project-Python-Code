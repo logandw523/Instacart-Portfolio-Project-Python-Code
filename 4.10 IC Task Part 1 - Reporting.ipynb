{
 "cells": [
  {
   "cell_type": "markdown",
   "id": "39f71a44",
   "metadata": {},
   "source": [
    "# Import Libraries"
   ]
  },
  {
   "cell_type": "code",
   "execution_count": 1,
   "id": "1f311e84",
   "metadata": {},
   "outputs": [],
   "source": [
    "import pandas as pd\n",
    "import numpy as np\n",
    "import os\n",
    "\n",
    "import seaborn as sns\n",
    "import matplotlib.pyplot as plt\n",
    "import scipy\n",
    "\n",
    "%matplotlib inline"
   ]
  },
  {
   "cell_type": "markdown",
   "id": "04ebbce3",
   "metadata": {},
   "source": [
    "# Import data set"
   ]
  },
  {
   "cell_type": "code",
   "execution_count": 2,
   "id": "2bb25a6c",
   "metadata": {},
   "outputs": [],
   "source": [
    "path = r'C:\\Users\\Logan\\OneDrive\\Desktop\\Instacart Basket Analysis'"
   ]
  },
  {
   "cell_type": "code",
   "execution_count": 3,
   "id": "3488ec93",
   "metadata": {},
   "outputs": [],
   "source": [
    "ords_cust_sample = pd.read_pickle(os.path.join(path, '02 Data', 'Prepared Data', '4.9 IC merged_sample.pkl'))"
   ]
  },
  {
   "cell_type": "code",
   "execution_count": 4,
   "id": "42e9c78d",
   "metadata": {},
   "outputs": [
    {
     "data": {
      "text/plain": [
       "(9721098, 34)"
      ]
     },
     "execution_count": 4,
     "metadata": {},
     "output_type": "execute_result"
    }
   ],
   "source": [
    "ords_cust_sample.shape"
   ]
  },
  {
   "cell_type": "code",
   "execution_count": 5,
   "id": "750908fa",
   "metadata": {},
   "outputs": [
    {
     "data": {
      "text/plain": [
       "621822"
      ]
     },
     "execution_count": 5,
     "metadata": {},
     "output_type": "execute_result"
    }
   ],
   "source": [
    "ords_cust_sample['days_since_prior_order'].isnull().sum()"
   ]
  },
  {
   "cell_type": "markdown",
   "id": "66a83945",
   "metadata": {},
   "source": [
    "# Crosstab"
   ]
  },
  {
   "cell_type": "code",
   "execution_count": 6,
   "id": "694d1202",
   "metadata": {},
   "outputs": [],
   "source": [
    "crosstab = pd.crosstab(ords_cust_sample['days_since_prior_order'], ords_cust_sample['order_number'], dropna = False)"
   ]
  },
  {
   "cell_type": "code",
   "execution_count": 7,
   "id": "97c347b9",
   "metadata": {},
   "outputs": [],
   "source": [
    "# copy to clipboard for excel analysis\n",
    "crosstab.to_clipboard()"
   ]
  },
  {
   "cell_type": "markdown",
   "id": "b44b6d5e",
   "metadata": {},
   "source": [
    "# Security Implications"
   ]
  },
  {
   "cell_type": "code",
   "execution_count": 8,
   "id": "040b5964",
   "metadata": {},
   "outputs": [
    {
     "data": {
      "text/plain": [
       "Index(['order_id', 'user_id', 'order_number', 'order_day_of_week',\n",
       "       'order_hour_of_day', 'days_since_prior_order', 'product_id',\n",
       "       'add_to_cart_order', 'reordered', 'product_name', 'aisle_id',\n",
       "       'department_id', 'prices', 'price_range_loc', 'busiest_day',\n",
       "       'Busiest_days', 'busiest_period_of_day', 'max_order', 'loyalty_flag',\n",
       "       'mean_price', 'spending_flag', 'median_days_since_prior_order',\n",
       "       'order_frequency_flag', 'firstname', 'lastname', 'gender', 'state',\n",
       "       'age', 'datejoined', 'numofchildren', 'maritalstatus', 'income',\n",
       "       'fullname', '_merge'],\n",
       "      dtype='object')"
      ]
     },
     "execution_count": 8,
     "metadata": {},
     "output_type": "execute_result"
    }
   ],
   "source": [
    "ords_cust_sample.columns"
   ]
  },
  {
   "cell_type": "code",
   "execution_count": 9,
   "id": "7c938fd6",
   "metadata": {},
   "outputs": [],
   "source": [
    "#replace PII information such as name with nan\n",
    "ords_cust_sample[['firstname', 'lastname','fullname']] = np.nan"
   ]
  },
  {
   "cell_type": "code",
   "execution_count": 10,
   "id": "ca9fc990",
   "metadata": {},
   "outputs": [
    {
     "data": {
      "text/plain": [
       "firstname    9721098\n",
       "lastname     9721098\n",
       "fullname     9721098\n",
       "dtype: int64"
      ]
     },
     "execution_count": 10,
     "metadata": {},
     "output_type": "execute_result"
    }
   ],
   "source": [
    "ords_cust_sample[['firstname', 'lastname','fullname']].isnull().sum()"
   ]
  },
  {
   "cell_type": "markdown",
   "id": "1fb20a0c",
   "metadata": {},
   "source": [
    "# Create a regional segmentation of the data. You’ll need to create a “Region” column based on the “State” column from your customers data set"
   ]
  },
  {
   "cell_type": "code",
   "execution_count": 11,
   "id": "3e854b15",
   "metadata": {},
   "outputs": [
    {
     "data": {
      "text/plain": [
       "array(['Alabama', 'Alaska', 'Arizona', 'Arkansas', 'California',\n",
       "       'Colorado', 'Connecticut', 'Delaware', 'District of Columbia',\n",
       "       'Florida', 'Georgia', 'Hawaii', 'Idaho', 'Illinois', 'Indiana',\n",
       "       'Iowa', 'Kansas', 'Kentucky', 'Louisiana', 'Maine', 'Maryland',\n",
       "       'Massachusetts', 'Michigan', 'Minnesota', 'Mississippi',\n",
       "       'Missouri', 'Montana', 'Nebraska', 'Nevada', 'New Hampshire',\n",
       "       'New Jersey', 'New Mexico', 'New York', 'North Carolina',\n",
       "       'North Dakota', 'Ohio', 'Oklahoma', 'Oregon', 'Pennsylvania',\n",
       "       'Rhode Island', 'South Carolina', 'South Dakota', 'Tennessee',\n",
       "       'Texas', 'Utah', 'Vermont', 'Virginia', 'Washington',\n",
       "       'West Virginia', 'Wisconsin', 'Wyoming'], dtype=object)"
      ]
     },
     "execution_count": 11,
     "metadata": {},
     "output_type": "execute_result"
    }
   ],
   "source": [
    "ords_cust_sample['state'].sort_values().unique()"
   ]
  },
  {
   "cell_type": "code",
   "execution_count": 12,
   "id": "eb9ede63",
   "metadata": {},
   "outputs": [],
   "source": [
    "northeast = ['Maine', 'New Hampshire','Vermont','Massachusetts','Rhode Island','Connecticut','New York','Pennsylvania','New Jersey']\n",
    "midwest = ['Wisconsin','Michigan','Illinois', 'Indiana','Ohio','North Dakota','South Dakota','Nebraska','Kansas','Minnesota','Iowa','Missouri']\n",
    "south = ['Delaware','Maryland','District of Columbia','Virginia','West Virginia','South Carolina','North Carolina','Florida', 'Georgia','Kentucky','Tennessee','Mississippi','Alabama','Oklahoma','Texas','Arkansas','Louisiana']\n",
    "west = ['Idaho','Montana','Wyoming','Nevada','Utah','Colorado','Arizona','New Mexico','Alaska','Washington','Oregon','California','Hawaii']"
   ]
  },
  {
   "cell_type": "code",
   "execution_count": 13,
   "id": "7f5d4dc3",
   "metadata": {},
   "outputs": [
    {
     "data": {
      "text/plain": [
       "51"
      ]
     },
     "execution_count": 13,
     "metadata": {},
     "output_type": "execute_result"
    }
   ],
   "source": [
    "len(northeast) + len(midwest) +len(south) +len(west)"
   ]
  },
  {
   "cell_type": "code",
   "execution_count": 14,
   "id": "8282fe34",
   "metadata": {},
   "outputs": [],
   "source": [
    "# create for loop to iterate through region lists and add values to region column\n",
    "result = []\n",
    "\n",
    "for state in ords_cust_sample['state']:\n",
    "    if state in northeast:\n",
    "        result.append('Northeast')\n",
    "    elif state in midwest:\n",
    "        result.append('Midwest')\n",
    "    elif state in south:\n",
    "        result.append('South')\n",
    "    elif state in west:\n",
    "        result.append('West')\n",
    "    else: 'not enough data'"
   ]
  },
  {
   "cell_type": "code",
   "execution_count": 15,
   "id": "575f94b4",
   "metadata": {},
   "outputs": [],
   "source": [
    "# assign result to populate values in new region column\n",
    "ords_cust_sample['region']= result"
   ]
  },
  {
   "cell_type": "code",
   "execution_count": 16,
   "id": "7fe608f9",
   "metadata": {},
   "outputs": [
    {
     "data": {
      "text/plain": [
       "South        3236318\n",
       "West         2487728\n",
       "Midwest      2280386\n",
       "Northeast    1716666\n",
       "Name: region, dtype: int64"
      ]
     },
     "execution_count": 16,
     "metadata": {},
     "output_type": "execute_result"
    }
   ],
   "source": [
    "# check values of region column\n",
    "ords_cust_sample['region'].value_counts(dropna = False)"
   ]
  },
  {
   "cell_type": "code",
   "execution_count": 20,
   "id": "cb70090e",
   "metadata": {},
   "outputs": [
    {
     "data": {
      "text/plain": [
       "Low spender     9530751\n",
       "High spender     190347\n",
       "Name: spending_flag, dtype: int64"
      ]
     },
     "execution_count": 20,
     "metadata": {},
     "output_type": "execute_result"
    }
   ],
   "source": [
    "# check values of spending flag\n",
    "# mean price or expenditure less than 10 - low spender\n",
    "# mean price or expenditure higher than 10 - high spender\n",
    "ords_cust_sample['spending_flag'].value_counts()"
   ]
  },
  {
   "cell_type": "code",
   "execution_count": 21,
   "id": "89e0af97",
   "metadata": {},
   "outputs": [],
   "source": [
    "# Determine whether there’s a difference in spending habits between the different U.S. regions\n",
    "crosstab1 = pd.crosstab(ords_cust_sample['region'], ords_cust_sample['spending_flag'],dropna = False)"
   ]
  },
  {
   "cell_type": "code",
   "execution_count": 22,
   "id": "886faff8",
   "metadata": {},
   "outputs": [
    {
     "data": {
      "text/html": [
       "<div>\n",
       "<style scoped>\n",
       "    .dataframe tbody tr th:only-of-type {\n",
       "        vertical-align: middle;\n",
       "    }\n",
       "\n",
       "    .dataframe tbody tr th {\n",
       "        vertical-align: top;\n",
       "    }\n",
       "\n",
       "    .dataframe thead th {\n",
       "        text-align: right;\n",
       "    }\n",
       "</style>\n",
       "<table border=\"1\" class=\"dataframe\">\n",
       "  <thead>\n",
       "    <tr style=\"text-align: right;\">\n",
       "      <th>spending_flag</th>\n",
       "      <th>High spender</th>\n",
       "      <th>Low spender</th>\n",
       "    </tr>\n",
       "    <tr>\n",
       "      <th>region</th>\n",
       "      <th></th>\n",
       "      <th></th>\n",
       "    </tr>\n",
       "  </thead>\n",
       "  <tbody>\n",
       "    <tr>\n",
       "      <th>Midwest</th>\n",
       "      <td>46814</td>\n",
       "      <td>2233572</td>\n",
       "    </tr>\n",
       "    <tr>\n",
       "      <th>Northeast</th>\n",
       "      <td>32419</td>\n",
       "      <td>1684247</td>\n",
       "    </tr>\n",
       "    <tr>\n",
       "      <th>South</th>\n",
       "      <td>63006</td>\n",
       "      <td>3173312</td>\n",
       "    </tr>\n",
       "    <tr>\n",
       "      <th>West</th>\n",
       "      <td>48108</td>\n",
       "      <td>2439620</td>\n",
       "    </tr>\n",
       "  </tbody>\n",
       "</table>\n",
       "</div>"
      ],
      "text/plain": [
       "spending_flag  High spender  Low spender\n",
       "region                                  \n",
       "Midwest               46814      2233572\n",
       "Northeast             32419      1684247\n",
       "South                 63006      3173312\n",
       "West                  48108      2439620"
      ]
     },
     "execution_count": 22,
     "metadata": {},
     "output_type": "execute_result"
    }
   ],
   "source": [
    "crosstab1"
   ]
  },
  {
   "cell_type": "markdown",
   "id": "6e5ba6a6",
   "metadata": {},
   "source": [
    "The south has the most in expenditures for both high and low spender categories."
   ]
  },
  {
   "cell_type": "markdown",
   "id": "a566c9ee",
   "metadata": {},
   "source": [
    "# Create an exclusion flag for low-activity customers (customers with less than 5 orders) and exclude them from the data. Make sure you export this sample."
   ]
  },
  {
   "cell_type": "code",
   "execution_count": 23,
   "id": "960a76cd",
   "metadata": {},
   "outputs": [
    {
     "data": {
      "text/plain": [
       "Index(['order_id', 'user_id', 'order_number', 'order_day_of_week',\n",
       "       'order_hour_of_day', 'days_since_prior_order', 'product_id',\n",
       "       'add_to_cart_order', 'reordered', 'product_name', 'aisle_id',\n",
       "       'department_id', 'prices', 'price_range_loc', 'busiest_day',\n",
       "       'Busiest_days', 'busiest_period_of_day', 'max_order', 'loyalty_flag',\n",
       "       'mean_price', 'spending_flag', 'median_days_since_prior_order',\n",
       "       'order_frequency_flag', 'firstname', 'lastname', 'gender', 'state',\n",
       "       'age', 'datejoined', 'numofchildren', 'maritalstatus', 'income',\n",
       "       'fullname', '_merge', 'region'],\n",
       "      dtype='object')"
      ]
     },
     "execution_count": 23,
     "metadata": {},
     "output_type": "execute_result"
    }
   ],
   "source": [
    "ords_cust_sample.columns"
   ]
  },
  {
   "cell_type": "code",
   "execution_count": 24,
   "id": "fc67f207",
   "metadata": {},
   "outputs": [],
   "source": [
    "ords_cust_sample.loc[ords_cust_sample['max_order'] < 5, 'exclusion_flag'] = 'Low-activity'\n",
    "ords_cust_sample.loc[ords_cust_sample['max_order'] >= 5, 'exclusion_flag'] = 'High-activity'"
   ]
  },
  {
   "cell_type": "code",
   "execution_count": 25,
   "id": "7ca76149",
   "metadata": {},
   "outputs": [
    {
     "data": {
      "text/plain": [
       "High-activity    9289401\n",
       "Low-activity      431697\n",
       "Name: exclusion_flag, dtype: int64"
      ]
     },
     "execution_count": 25,
     "metadata": {},
     "output_type": "execute_result"
    }
   ],
   "source": [
    "ords_cust_sample['exclusion_flag'].value_counts(dropna=False)"
   ]
  },
  {
   "cell_type": "code",
   "execution_count": 26,
   "id": "2df42ad1",
   "metadata": {},
   "outputs": [],
   "source": [
    "#create filter for low activity\n",
    "lowfilt = ords_cust_sample['exclusion_flag'] == 'Low-activity'"
   ]
  },
  {
   "cell_type": "code",
   "execution_count": 28,
   "id": "5e688637",
   "metadata": {},
   "outputs": [
    {
     "data": {
      "text/plain": [
       "Low-activity    431697\n",
       "Name: exclusion_flag, dtype: int64"
      ]
     },
     "execution_count": 28,
     "metadata": {},
     "output_type": "execute_result"
    }
   ],
   "source": [
    "ords_cust_sample.loc[lowfilt, 'exclusion_flag'].value_counts()"
   ]
  },
  {
   "cell_type": "code",
   "execution_count": 30,
   "id": "d896aaaa",
   "metadata": {},
   "outputs": [],
   "source": [
    "df_lowact = ords_cust_sample.loc[lowfilt]"
   ]
  },
  {
   "cell_type": "code",
   "execution_count": 31,
   "id": "47dda5a9",
   "metadata": {},
   "outputs": [
    {
     "data": {
      "text/plain": [
       "(431697, 36)"
      ]
     },
     "execution_count": 31,
     "metadata": {},
     "output_type": "execute_result"
    }
   ],
   "source": [
    "df_lowact.shape"
   ]
  },
  {
   "cell_type": "code",
   "execution_count": 32,
   "id": "511a6a3b",
   "metadata": {},
   "outputs": [],
   "source": [
    "# Export low activity sample\n",
    "df_lowact.to_pickle(os.path.join(path, '02 Data', 'Prepared Data', '4.10_lowactivity.pkl'))"
   ]
  },
  {
   "cell_type": "markdown",
   "id": "de353539",
   "metadata": {},
   "source": [
    "# Create a profiling variable based on age, income, certain goods in the “department_id” column, and number of dependents. You might also use the “orders_day_of_the_week” and “order_hour_of_day” columns if you can think of a way they would impact customer profiles. (Hint: As an example, try thinking of what characteristics would lead you to the profile “Single adult” or “Young parent.”)"
   ]
  },
  {
   "cell_type": "code",
   "execution_count": 35,
   "id": "bd943fce",
   "metadata": {},
   "outputs": [],
   "source": [
    "ords_cust_sample.loc[ords_cust_sample['age'] <= 24, 'ageprofile'] = 'Young Adult'\n",
    "ords_cust_sample.loc[(ords_cust_sample['age'] > 24) & (ords_cust_sample['age'] <=64), 'ageprofile'] = 'Adult'\n",
    "ords_cust_sample.loc[ords_cust_sample['age'] > 64, 'ageprofile'] = 'Senior'"
   ]
  },
  {
   "cell_type": "code",
   "execution_count": 36,
   "id": "b9cffee0",
   "metadata": {},
   "outputs": [
    {
     "data": {
      "text/plain": [
       "Adult          6074928\n",
       "Senior         2573835\n",
       "Young Adult    1072335\n",
       "Name: ageprofile, dtype: int64"
      ]
     },
     "execution_count": 36,
     "metadata": {},
     "output_type": "execute_result"
    }
   ],
   "source": [
    "ords_cust_sample['ageprofile'].value_counts(dropna = False)"
   ]
  },
  {
   "cell_type": "markdown",
   "id": "f68e703f",
   "metadata": {},
   "source": [
    "# Create an appropriate visualization to show the distribution of profiles."
   ]
  },
  {
   "cell_type": "code",
   "execution_count": 54,
   "id": "855d8ece",
   "metadata": {},
   "outputs": [
    {
     "data": {
      "image/png": "[encoded data removed]",
      "text/plain": [
       "<Figure size 432x288 with 1 Axes>"
      ]
     },
     "metadata": {},
     "output_type": "display_data"
    }
   ],
   "source": [
    "sns.set_style('darkgrid')\n",
    "bar1 = ords_cust_sample['ageprofile'].value_counts().plot.bar(color = ['green', 'blue', 'red'])\n",
    "\n",
    "plt.title(\"Customer Profiles\", fontsize = 20, color='DarkBlue',fontname='Arial')\n",
    "plt.ylabel(\"Frequency\", fontsize = 12,fontname='Arial')\n",
    "plt.xticks(rotation = 0, fontsize = 12, fontname = 'Arial')\n",
    "plt.show()"
   ]
  },
  {
   "cell_type": "markdown",
   "id": "770b04a6",
   "metadata": {},
   "source": [
    "# Aggregate the max, mean, and min variables on a customer-profile level for usage frequency and expenditure."
   ]
  },
  {
   "cell_type": "code",
   "execution_count": 42,
   "id": "8e0ad2d3",
   "metadata": {},
   "outputs": [
    {
     "data": {
      "text/html": [
       "<div>\n",
       "<style scoped>\n",
       "    .dataframe tbody tr th:only-of-type {\n",
       "        vertical-align: middle;\n",
       "    }\n",
       "\n",
       "    .dataframe tbody tr th {\n",
       "        vertical-align: top;\n",
       "    }\n",
       "\n",
       "    .dataframe thead tr th {\n",
       "        text-align: left;\n",
       "    }\n",
       "\n",
       "    .dataframe thead tr:last-of-type th {\n",
       "        text-align: right;\n",
       "    }\n",
       "</style>\n",
       "<table border=\"1\" class=\"dataframe\">\n",
       "  <thead>\n",
       "    <tr>\n",
       "      <th></th>\n",
       "      <th colspan=\"3\" halign=\"left\">median_days_since_prior_order</th>\n",
       "    </tr>\n",
       "    <tr>\n",
       "      <th></th>\n",
       "      <th>mean</th>\n",
       "      <th>max</th>\n",
       "      <th>min</th>\n",
       "    </tr>\n",
       "    <tr>\n",
       "      <th>ageprofile</th>\n",
       "      <th></th>\n",
       "      <th></th>\n",
       "      <th></th>\n",
       "    </tr>\n",
       "  </thead>\n",
       "  <tbody>\n",
       "    <tr>\n",
       "      <th>Adult</th>\n",
       "      <td>10.418344</td>\n",
       "      <td>30.0</td>\n",
       "      <td>0.0</td>\n",
       "    </tr>\n",
       "    <tr>\n",
       "      <th>Senior</th>\n",
       "      <td>10.363899</td>\n",
       "      <td>30.0</td>\n",
       "      <td>0.0</td>\n",
       "    </tr>\n",
       "    <tr>\n",
       "      <th>Young Adult</th>\n",
       "      <td>10.348374</td>\n",
       "      <td>30.0</td>\n",
       "      <td>0.0</td>\n",
       "    </tr>\n",
       "  </tbody>\n",
       "</table>\n",
       "</div>"
      ],
      "text/plain": [
       "            median_days_since_prior_order           \n",
       "                                     mean   max  min\n",
       "ageprofile                                          \n",
       "Adult                           10.418344  30.0  0.0\n",
       "Senior                          10.363899  30.0  0.0\n",
       "Young Adult                     10.348374  30.0  0.0"
      ]
     },
     "execution_count": 42,
     "metadata": {},
     "output_type": "execute_result"
    }
   ],
   "source": [
    "ords_cust_sample.groupby('ageprofile').agg({'median_days_since_prior_order' : ['mean','max','min']})"
   ]
  },
  {
   "cell_type": "code",
   "execution_count": 48,
   "id": "6166e83b",
   "metadata": {},
   "outputs": [
    {
     "data": {
      "text/html": [
       "<div>\n",
       "<style scoped>\n",
       "    .dataframe tbody tr th:only-of-type {\n",
       "        vertical-align: middle;\n",
       "    }\n",
       "\n",
       "    .dataframe tbody tr th {\n",
       "        vertical-align: top;\n",
       "    }\n",
       "\n",
       "    .dataframe thead tr th {\n",
       "        text-align: left;\n",
       "    }\n",
       "\n",
       "    .dataframe thead tr:last-of-type th {\n",
       "        text-align: right;\n",
       "    }\n",
       "</style>\n",
       "<table border=\"1\" class=\"dataframe\">\n",
       "  <thead>\n",
       "    <tr>\n",
       "      <th></th>\n",
       "      <th colspan=\"3\" halign=\"left\">prices</th>\n",
       "    </tr>\n",
       "    <tr>\n",
       "      <th></th>\n",
       "      <th>mean</th>\n",
       "      <th>max</th>\n",
       "      <th>min</th>\n",
       "    </tr>\n",
       "    <tr>\n",
       "      <th>ageprofile</th>\n",
       "      <th></th>\n",
       "      <th></th>\n",
       "      <th></th>\n",
       "    </tr>\n",
       "  </thead>\n",
       "  <tbody>\n",
       "    <tr>\n",
       "      <th>Adult</th>\n",
       "      <td>7.789659</td>\n",
       "      <td>25.0</td>\n",
       "      <td>1.0</td>\n",
       "    </tr>\n",
       "    <tr>\n",
       "      <th>Senior</th>\n",
       "      <td>7.795785</td>\n",
       "      <td>25.0</td>\n",
       "      <td>1.0</td>\n",
       "    </tr>\n",
       "    <tr>\n",
       "      <th>Young Adult</th>\n",
       "      <td>7.789476</td>\n",
       "      <td>25.0</td>\n",
       "      <td>1.0</td>\n",
       "    </tr>\n",
       "  </tbody>\n",
       "</table>\n",
       "</div>"
      ],
      "text/plain": [
       "               prices           \n",
       "                 mean   max  min\n",
       "ageprofile                      \n",
       "Adult        7.789659  25.0  1.0\n",
       "Senior       7.795785  25.0  1.0\n",
       "Young Adult  7.789476  25.0  1.0"
      ]
     },
     "execution_count": 48,
     "metadata": {},
     "output_type": "execute_result"
    }
   ],
   "source": [
    "ords_cust_sample.groupby('ageprofile').agg({'prices' : ['mean','max','min']})"
   ]
  },
  {
   "cell_type": "code",
   "execution_count": 49,
   "id": "6f18c25b",
   "metadata": {},
   "outputs": [
    {
     "data": {
      "text/html": [
       "<div>\n",
       "<style scoped>\n",
       "    .dataframe tbody tr th:only-of-type {\n",
       "        vertical-align: middle;\n",
       "    }\n",
       "\n",
       "    .dataframe tbody tr th {\n",
       "        vertical-align: top;\n",
       "    }\n",
       "\n",
       "    .dataframe thead tr th {\n",
       "        text-align: left;\n",
       "    }\n",
       "\n",
       "    .dataframe thead tr:last-of-type th {\n",
       "        text-align: right;\n",
       "    }\n",
       "</style>\n",
       "<table border=\"1\" class=\"dataframe\">\n",
       "  <thead>\n",
       "    <tr>\n",
       "      <th></th>\n",
       "      <th colspan=\"3\" halign=\"left\">order_number</th>\n",
       "    </tr>\n",
       "    <tr>\n",
       "      <th></th>\n",
       "      <th>mean</th>\n",
       "      <th>max</th>\n",
       "      <th>min</th>\n",
       "    </tr>\n",
       "    <tr>\n",
       "      <th>ageprofile</th>\n",
       "      <th></th>\n",
       "      <th></th>\n",
       "      <th></th>\n",
       "    </tr>\n",
       "  </thead>\n",
       "  <tbody>\n",
       "    <tr>\n",
       "      <th>Adult</th>\n",
       "      <td>17.145641</td>\n",
       "      <td>99</td>\n",
       "      <td>1</td>\n",
       "    </tr>\n",
       "    <tr>\n",
       "      <th>Senior</th>\n",
       "      <td>17.100501</td>\n",
       "      <td>99</td>\n",
       "      <td>1</td>\n",
       "    </tr>\n",
       "    <tr>\n",
       "      <th>Young Adult</th>\n",
       "      <td>17.307349</td>\n",
       "      <td>99</td>\n",
       "      <td>1</td>\n",
       "    </tr>\n",
       "  </tbody>\n",
       "</table>\n",
       "</div>"
      ],
      "text/plain": [
       "            order_number        \n",
       "                    mean max min\n",
       "ageprofile                      \n",
       "Adult          17.145641  99   1\n",
       "Senior         17.100501  99   1\n",
       "Young Adult    17.307349  99   1"
      ]
     },
     "execution_count": 49,
     "metadata": {},
     "output_type": "execute_result"
    }
   ],
   "source": [
    "ords_cust_sample.groupby('ageprofile').agg({'order_number' : ['mean','max','min']})"
   ]
  },
  {
   "cell_type": "markdown",
   "id": "eb51603c",
   "metadata": {},
   "source": [
    "# Customers may demonstrate different behaviors across regions, which could make this information important"
   ]
  },
  {
   "cell_type": "code",
   "execution_count": 51,
   "id": "1090f23a",
   "metadata": {},
   "outputs": [
    {
     "data": {
      "text/html": [
       "<div>\n",
       "<style scoped>\n",
       "    .dataframe tbody tr th:only-of-type {\n",
       "        vertical-align: middle;\n",
       "    }\n",
       "\n",
       "    .dataframe tbody tr th {\n",
       "        vertical-align: top;\n",
       "    }\n",
       "\n",
       "    .dataframe thead tr th {\n",
       "        text-align: left;\n",
       "    }\n",
       "\n",
       "    .dataframe thead tr:last-of-type th {\n",
       "        text-align: right;\n",
       "    }\n",
       "</style>\n",
       "<table border=\"1\" class=\"dataframe\">\n",
       "  <thead>\n",
       "    <tr>\n",
       "      <th></th>\n",
       "      <th></th>\n",
       "      <th colspan=\"3\" halign=\"left\">prices</th>\n",
       "    </tr>\n",
       "    <tr>\n",
       "      <th></th>\n",
       "      <th></th>\n",
       "      <th>mean</th>\n",
       "      <th>max</th>\n",
       "      <th>min</th>\n",
       "    </tr>\n",
       "    <tr>\n",
       "      <th>ageprofile</th>\n",
       "      <th>region</th>\n",
       "      <th></th>\n",
       "      <th></th>\n",
       "      <th></th>\n",
       "    </tr>\n",
       "  </thead>\n",
       "  <tbody>\n",
       "    <tr>\n",
       "      <th rowspan=\"4\" valign=\"top\">Adult</th>\n",
       "      <th>Midwest</th>\n",
       "      <td>7.787056</td>\n",
       "      <td>25.0</td>\n",
       "      <td>1.0</td>\n",
       "    </tr>\n",
       "    <tr>\n",
       "      <th>Northeast</th>\n",
       "      <td>7.789864</td>\n",
       "      <td>25.0</td>\n",
       "      <td>1.0</td>\n",
       "    </tr>\n",
       "    <tr>\n",
       "      <th>South</th>\n",
       "      <td>7.793961</td>\n",
       "      <td>25.0</td>\n",
       "      <td>1.0</td>\n",
       "    </tr>\n",
       "    <tr>\n",
       "      <th>West</th>\n",
       "      <td>7.786346</td>\n",
       "      <td>25.0</td>\n",
       "      <td>1.0</td>\n",
       "    </tr>\n",
       "    <tr>\n",
       "      <th rowspan=\"4\" valign=\"top\">Senior</th>\n",
       "      <th>Midwest</th>\n",
       "      <td>7.795279</td>\n",
       "      <td>25.0</td>\n",
       "      <td>1.0</td>\n",
       "    </tr>\n",
       "    <tr>\n",
       "      <th>Northeast</th>\n",
       "      <td>7.790942</td>\n",
       "      <td>25.0</td>\n",
       "      <td>1.0</td>\n",
       "    </tr>\n",
       "    <tr>\n",
       "      <th>South</th>\n",
       "      <td>7.800417</td>\n",
       "      <td>25.0</td>\n",
       "      <td>1.0</td>\n",
       "    </tr>\n",
       "    <tr>\n",
       "      <th>West</th>\n",
       "      <td>7.793684</td>\n",
       "      <td>25.0</td>\n",
       "      <td>1.0</td>\n",
       "    </tr>\n",
       "    <tr>\n",
       "      <th rowspan=\"4\" valign=\"top\">Young Adult</th>\n",
       "      <th>Midwest</th>\n",
       "      <td>7.809510</td>\n",
       "      <td>25.0</td>\n",
       "      <td>1.0</td>\n",
       "    </tr>\n",
       "    <tr>\n",
       "      <th>Northeast</th>\n",
       "      <td>7.753566</td>\n",
       "      <td>25.0</td>\n",
       "      <td>1.0</td>\n",
       "    </tr>\n",
       "    <tr>\n",
       "      <th>South</th>\n",
       "      <td>7.798712</td>\n",
       "      <td>25.0</td>\n",
       "      <td>1.0</td>\n",
       "    </tr>\n",
       "    <tr>\n",
       "      <th>West</th>\n",
       "      <td>7.783556</td>\n",
       "      <td>25.0</td>\n",
       "      <td>1.0</td>\n",
       "    </tr>\n",
       "  </tbody>\n",
       "</table>\n",
       "</div>"
      ],
      "text/plain": [
       "                         prices           \n",
       "                           mean   max  min\n",
       "ageprofile  region                        \n",
       "Adult       Midwest    7.787056  25.0  1.0\n",
       "            Northeast  7.789864  25.0  1.0\n",
       "            South      7.793961  25.0  1.0\n",
       "            West       7.786346  25.0  1.0\n",
       "Senior      Midwest    7.795279  25.0  1.0\n",
       "            Northeast  7.790942  25.0  1.0\n",
       "            South      7.800417  25.0  1.0\n",
       "            West       7.793684  25.0  1.0\n",
       "Young Adult Midwest    7.809510  25.0  1.0\n",
       "            Northeast  7.753566  25.0  1.0\n",
       "            South      7.798712  25.0  1.0\n",
       "            West       7.783556  25.0  1.0"
      ]
     },
     "execution_count": 51,
     "metadata": {},
     "output_type": "execute_result"
    }
   ],
   "source": [
    "ords_cust_sample.groupby(['ageprofile', 'region']).agg({'prices' : ['mean','max','min']})"
   ]
  },
  {
   "cell_type": "code",
   "execution_count": 52,
   "id": "40720050",
   "metadata": {},
   "outputs": [
    {
     "data": {
      "text/html": [
       "<div>\n",
       "<style scoped>\n",
       "    .dataframe tbody tr th:only-of-type {\n",
       "        vertical-align: middle;\n",
       "    }\n",
       "\n",
       "    .dataframe tbody tr th {\n",
       "        vertical-align: top;\n",
       "    }\n",
       "\n",
       "    .dataframe thead tr th {\n",
       "        text-align: left;\n",
       "    }\n",
       "\n",
       "    .dataframe thead tr:last-of-type th {\n",
       "        text-align: right;\n",
       "    }\n",
       "</style>\n",
       "<table border=\"1\" class=\"dataframe\">\n",
       "  <thead>\n",
       "    <tr>\n",
       "      <th></th>\n",
       "      <th></th>\n",
       "      <th colspan=\"3\" halign=\"left\">median_days_since_prior_order</th>\n",
       "    </tr>\n",
       "    <tr>\n",
       "      <th></th>\n",
       "      <th></th>\n",
       "      <th>mean</th>\n",
       "      <th>max</th>\n",
       "      <th>min</th>\n",
       "    </tr>\n",
       "    <tr>\n",
       "      <th>ageprofile</th>\n",
       "      <th>region</th>\n",
       "      <th></th>\n",
       "      <th></th>\n",
       "      <th></th>\n",
       "    </tr>\n",
       "  </thead>\n",
       "  <tbody>\n",
       "    <tr>\n",
       "      <th rowspan=\"4\" valign=\"top\">Adult</th>\n",
       "      <th>Midwest</th>\n",
       "      <td>10.440609</td>\n",
       "      <td>30.0</td>\n",
       "      <td>0.0</td>\n",
       "    </tr>\n",
       "    <tr>\n",
       "      <th>Northeast</th>\n",
       "      <td>10.512364</td>\n",
       "      <td>30.0</td>\n",
       "      <td>0.0</td>\n",
       "    </tr>\n",
       "    <tr>\n",
       "      <th>South</th>\n",
       "      <td>10.418496</td>\n",
       "      <td>30.0</td>\n",
       "      <td>0.0</td>\n",
       "    </tr>\n",
       "    <tr>\n",
       "      <th>West</th>\n",
       "      <td>10.333759</td>\n",
       "      <td>30.0</td>\n",
       "      <td>0.0</td>\n",
       "    </tr>\n",
       "    <tr>\n",
       "      <th rowspan=\"4\" valign=\"top\">Senior</th>\n",
       "      <th>Midwest</th>\n",
       "      <td>10.505892</td>\n",
       "      <td>30.0</td>\n",
       "      <td>0.0</td>\n",
       "    </tr>\n",
       "    <tr>\n",
       "      <th>Northeast</th>\n",
       "      <td>10.147211</td>\n",
       "      <td>30.0</td>\n",
       "      <td>0.0</td>\n",
       "    </tr>\n",
       "    <tr>\n",
       "      <th>South</th>\n",
       "      <td>10.372283</td>\n",
       "      <td>30.0</td>\n",
       "      <td>0.0</td>\n",
       "    </tr>\n",
       "    <tr>\n",
       "      <th>West</th>\n",
       "      <td>10.377768</td>\n",
       "      <td>30.0</td>\n",
       "      <td>0.0</td>\n",
       "    </tr>\n",
       "    <tr>\n",
       "      <th rowspan=\"4\" valign=\"top\">Young Adult</th>\n",
       "      <th>Midwest</th>\n",
       "      <td>10.443900</td>\n",
       "      <td>30.0</td>\n",
       "      <td>0.0</td>\n",
       "    </tr>\n",
       "    <tr>\n",
       "      <th>Northeast</th>\n",
       "      <td>10.190946</td>\n",
       "      <td>30.0</td>\n",
       "      <td>0.0</td>\n",
       "    </tr>\n",
       "    <tr>\n",
       "      <th>South</th>\n",
       "      <td>10.285294</td>\n",
       "      <td>30.0</td>\n",
       "      <td>0.0</td>\n",
       "    </tr>\n",
       "    <tr>\n",
       "      <th>West</th>\n",
       "      <td>10.456128</td>\n",
       "      <td>30.0</td>\n",
       "      <td>0.0</td>\n",
       "    </tr>\n",
       "  </tbody>\n",
       "</table>\n",
       "</div>"
      ],
      "text/plain": [
       "                      median_days_since_prior_order           \n",
       "                                               mean   max  min\n",
       "ageprofile  region                                            \n",
       "Adult       Midwest                       10.440609  30.0  0.0\n",
       "            Northeast                     10.512364  30.0  0.0\n",
       "            South                         10.418496  30.0  0.0\n",
       "            West                          10.333759  30.0  0.0\n",
       "Senior      Midwest                       10.505892  30.0  0.0\n",
       "            Northeast                     10.147211  30.0  0.0\n",
       "            South                         10.372283  30.0  0.0\n",
       "            West                          10.377768  30.0  0.0\n",
       "Young Adult Midwest                       10.443900  30.0  0.0\n",
       "            Northeast                     10.190946  30.0  0.0\n",
       "            South                         10.285294  30.0  0.0\n",
       "            West                          10.456128  30.0  0.0"
      ]
     },
     "execution_count": 52,
     "metadata": {},
     "output_type": "execute_result"
    }
   ],
   "source": [
    "ords_cust_sample.groupby(['ageprofile', 'region']).agg({'median_days_since_prior_order' : ['mean','max','min']})"
   ]
  },
  {
   "cell_type": "code",
   "execution_count": 53,
   "id": "a00594b3",
   "metadata": {},
   "outputs": [
    {
     "data": {
      "text/html": [
       "<div>\n",
       "<style scoped>\n",
       "    .dataframe tbody tr th:only-of-type {\n",
       "        vertical-align: middle;\n",
       "    }\n",
       "\n",
       "    .dataframe tbody tr th {\n",
       "        vertical-align: top;\n",
       "    }\n",
       "\n",
       "    .dataframe thead tr th {\n",
       "        text-align: left;\n",
       "    }\n",
       "\n",
       "    .dataframe thead tr:last-of-type th {\n",
       "        text-align: right;\n",
       "    }\n",
       "</style>\n",
       "<table border=\"1\" class=\"dataframe\">\n",
       "  <thead>\n",
       "    <tr>\n",
       "      <th></th>\n",
       "      <th></th>\n",
       "      <th colspan=\"3\" halign=\"left\">max_order</th>\n",
       "    </tr>\n",
       "    <tr>\n",
       "      <th></th>\n",
       "      <th></th>\n",
       "      <th>mean</th>\n",
       "      <th>max</th>\n",
       "      <th>min</th>\n",
       "    </tr>\n",
       "    <tr>\n",
       "      <th>ageprofile</th>\n",
       "      <th>region</th>\n",
       "      <th></th>\n",
       "      <th></th>\n",
       "      <th></th>\n",
       "    </tr>\n",
       "  </thead>\n",
       "  <tbody>\n",
       "    <tr>\n",
       "      <th rowspan=\"4\" valign=\"top\">Adult</th>\n",
       "      <th>Midwest</th>\n",
       "      <td>32.748359</td>\n",
       "      <td>99</td>\n",
       "      <td>2</td>\n",
       "    </tr>\n",
       "    <tr>\n",
       "      <th>Northeast</th>\n",
       "      <td>32.762608</td>\n",
       "      <td>99</td>\n",
       "      <td>2</td>\n",
       "    </tr>\n",
       "    <tr>\n",
       "      <th>South</th>\n",
       "      <td>33.011636</td>\n",
       "      <td>99</td>\n",
       "      <td>3</td>\n",
       "    </tr>\n",
       "    <tr>\n",
       "      <th>West</th>\n",
       "      <td>33.494943</td>\n",
       "      <td>99</td>\n",
       "      <td>3</td>\n",
       "    </tr>\n",
       "    <tr>\n",
       "      <th rowspan=\"4\" valign=\"top\">Senior</th>\n",
       "      <th>Midwest</th>\n",
       "      <td>32.171395</td>\n",
       "      <td>99</td>\n",
       "      <td>3</td>\n",
       "    </tr>\n",
       "    <tr>\n",
       "      <th>Northeast</th>\n",
       "      <td>33.746615</td>\n",
       "      <td>99</td>\n",
       "      <td>3</td>\n",
       "    </tr>\n",
       "    <tr>\n",
       "      <th>South</th>\n",
       "      <td>33.043499</td>\n",
       "      <td>99</td>\n",
       "      <td>3</td>\n",
       "    </tr>\n",
       "    <tr>\n",
       "      <th>West</th>\n",
       "      <td>33.037046</td>\n",
       "      <td>99</td>\n",
       "      <td>3</td>\n",
       "    </tr>\n",
       "    <tr>\n",
       "      <th rowspan=\"4\" valign=\"top\">Young Adult</th>\n",
       "      <th>Midwest</th>\n",
       "      <td>32.682278</td>\n",
       "      <td>99</td>\n",
       "      <td>3</td>\n",
       "    </tr>\n",
       "    <tr>\n",
       "      <th>Northeast</th>\n",
       "      <td>34.432681</td>\n",
       "      <td>99</td>\n",
       "      <td>3</td>\n",
       "    </tr>\n",
       "    <tr>\n",
       "      <th>South</th>\n",
       "      <td>33.886195</td>\n",
       "      <td>99</td>\n",
       "      <td>3</td>\n",
       "    </tr>\n",
       "    <tr>\n",
       "      <th>West</th>\n",
       "      <td>32.778803</td>\n",
       "      <td>99</td>\n",
       "      <td>3</td>\n",
       "    </tr>\n",
       "  </tbody>\n",
       "</table>\n",
       "</div>"
      ],
      "text/plain": [
       "                       max_order        \n",
       "                            mean max min\n",
       "ageprofile  region                      \n",
       "Adult       Midwest    32.748359  99   2\n",
       "            Northeast  32.762608  99   2\n",
       "            South      33.011636  99   3\n",
       "            West       33.494943  99   3\n",
       "Senior      Midwest    32.171395  99   3\n",
       "            Northeast  33.746615  99   3\n",
       "            South      33.043499  99   3\n",
       "            West       33.037046  99   3\n",
       "Young Adult Midwest    32.682278  99   3\n",
       "            Northeast  34.432681  99   3\n",
       "            South      33.886195  99   3\n",
       "            West       32.778803  99   3"
      ]
     },
     "execution_count": 53,
     "metadata": {},
     "output_type": "execute_result"
    }
   ],
   "source": [
    "ords_cust_sample.groupby(['ageprofile', 'region']).agg({'max_order' : ['mean','max','min']})"
   ]
  },
  {
   "cell_type": "code",
   "execution_count": 57,
   "id": "7de1195d",
   "metadata": {},
   "outputs": [
    {
     "data": {
      "image/png": "[encoded data removed]",
      "text/plain": [
       "<Figure size 432x288 with 1 Axes>"
      ]
     },
     "metadata": {},
     "output_type": "display_data"
    }
   ],
   "source": [
    "sns.set_style('darkgrid')\n",
    "bar2 = ords_cust_sample['region'].value_counts().plot.bar(color = ['green', 'blue', 'red', 'purple'])\n",
    "\n",
    "plt.title(\"Customer Locations\", fontsize = 20, color='DarkBlue',fontname='Arial')\n",
    "plt.ylabel(\"Frequency\", fontsize = 12,fontname='Arial')\n",
    "plt.xticks(rotation = 0, fontsize = 12, fontname = 'Arial')\n",
    "plt.show()"
   ]
  },
  {
   "cell_type": "code",
   "execution_count": 58,
   "id": "173da446",
   "metadata": {},
   "outputs": [],
   "source": [
    "# Export visualizations\n",
    "bar1.figure.savefig(os.path.join(path, '04 Analysis', 'Visualizations', 'bar_custprofiles.png'))\n",
    "bar2.figure.savefig(os.path.join(path, '04 Analysis', 'Visualizations', 'bar_custlocations.png'))"
   ]
  },
  {
   "cell_type": "markdown",
   "id": "f0977b35",
   "metadata": {},
   "source": [
    "# Export final data set"
   ]
  },
  {
   "cell_type": "code",
   "execution_count": 59,
   "id": "fadecb57",
   "metadata": {},
   "outputs": [
    {
     "data": {
      "text/html": [
       "<div>\n",
       "<style scoped>\n",
       "    .dataframe tbody tr th:only-of-type {\n",
       "        vertical-align: middle;\n",
       "    }\n",
       "\n",
       "    .dataframe tbody tr th {\n",
       "        vertical-align: top;\n",
       "    }\n",
       "\n",
       "    .dataframe thead th {\n",
       "        text-align: right;\n",
       "    }\n",
       "</style>\n",
       "<table border=\"1\" class=\"dataframe\">\n",
       "  <thead>\n",
       "    <tr style=\"text-align: right;\">\n",
       "      <th></th>\n",
       "      <th>order_id</th>\n",
       "      <th>user_id</th>\n",
       "      <th>order_number</th>\n",
       "      <th>order_day_of_week</th>\n",
       "      <th>order_hour_of_day</th>\n",
       "      <th>days_since_prior_order</th>\n",
       "      <th>product_id</th>\n",
       "      <th>add_to_cart_order</th>\n",
       "      <th>reordered</th>\n",
       "      <th>product_name</th>\n",
       "      <th>...</th>\n",
       "      <th>age</th>\n",
       "      <th>datejoined</th>\n",
       "      <th>numofchildren</th>\n",
       "      <th>maritalstatus</th>\n",
       "      <th>income</th>\n",
       "      <th>fullname</th>\n",
       "      <th>_merge</th>\n",
       "      <th>region</th>\n",
       "      <th>exclusion_flag</th>\n",
       "      <th>ageprofile</th>\n",
       "    </tr>\n",
       "  </thead>\n",
       "  <tbody>\n",
       "    <tr>\n",
       "      <th>0</th>\n",
       "      <td>2539329</td>\n",
       "      <td>1</td>\n",
       "      <td>1</td>\n",
       "      <td>2</td>\n",
       "      <td>8</td>\n",
       "      <td>NaN</td>\n",
       "      <td>196</td>\n",
       "      <td>1</td>\n",
       "      <td>0</td>\n",
       "      <td>Soda</td>\n",
       "      <td>...</td>\n",
       "      <td>31</td>\n",
       "      <td>2/17/2019</td>\n",
       "      <td>3</td>\n",
       "      <td>married</td>\n",
       "      <td>40423</td>\n",
       "      <td>NaN</td>\n",
       "      <td>both</td>\n",
       "      <td>South</td>\n",
       "      <td>High-activity</td>\n",
       "      <td>Adult</td>\n",
       "    </tr>\n",
       "    <tr>\n",
       "      <th>1</th>\n",
       "      <td>473747</td>\n",
       "      <td>1</td>\n",
       "      <td>3</td>\n",
       "      <td>3</td>\n",
       "      <td>12</td>\n",
       "      <td>21.0</td>\n",
       "      <td>196</td>\n",
       "      <td>1</td>\n",
       "      <td>1</td>\n",
       "      <td>Soda</td>\n",
       "      <td>...</td>\n",
       "      <td>31</td>\n",
       "      <td>2/17/2019</td>\n",
       "      <td>3</td>\n",
       "      <td>married</td>\n",
       "      <td>40423</td>\n",
       "      <td>NaN</td>\n",
       "      <td>both</td>\n",
       "      <td>South</td>\n",
       "      <td>High-activity</td>\n",
       "      <td>Adult</td>\n",
       "    </tr>\n",
       "    <tr>\n",
       "      <th>2</th>\n",
       "      <td>2254736</td>\n",
       "      <td>1</td>\n",
       "      <td>4</td>\n",
       "      <td>4</td>\n",
       "      <td>7</td>\n",
       "      <td>29.0</td>\n",
       "      <td>196</td>\n",
       "      <td>1</td>\n",
       "      <td>1</td>\n",
       "      <td>Soda</td>\n",
       "      <td>...</td>\n",
       "      <td>31</td>\n",
       "      <td>2/17/2019</td>\n",
       "      <td>3</td>\n",
       "      <td>married</td>\n",
       "      <td>40423</td>\n",
       "      <td>NaN</td>\n",
       "      <td>both</td>\n",
       "      <td>South</td>\n",
       "      <td>High-activity</td>\n",
       "      <td>Adult</td>\n",
       "    </tr>\n",
       "    <tr>\n",
       "      <th>3</th>\n",
       "      <td>550135</td>\n",
       "      <td>1</td>\n",
       "      <td>7</td>\n",
       "      <td>1</td>\n",
       "      <td>9</td>\n",
       "      <td>20.0</td>\n",
       "      <td>196</td>\n",
       "      <td>1</td>\n",
       "      <td>1</td>\n",
       "      <td>Soda</td>\n",
       "      <td>...</td>\n",
       "      <td>31</td>\n",
       "      <td>2/17/2019</td>\n",
       "      <td>3</td>\n",
       "      <td>married</td>\n",
       "      <td>40423</td>\n",
       "      <td>NaN</td>\n",
       "      <td>both</td>\n",
       "      <td>South</td>\n",
       "      <td>High-activity</td>\n",
       "      <td>Adult</td>\n",
       "    </tr>\n",
       "    <tr>\n",
       "      <th>4</th>\n",
       "      <td>2539329</td>\n",
       "      <td>1</td>\n",
       "      <td>1</td>\n",
       "      <td>2</td>\n",
       "      <td>8</td>\n",
       "      <td>NaN</td>\n",
       "      <td>12427</td>\n",
       "      <td>3</td>\n",
       "      <td>0</td>\n",
       "      <td>Original Beef Jerky</td>\n",
       "      <td>...</td>\n",
       "      <td>31</td>\n",
       "      <td>2/17/2019</td>\n",
       "      <td>3</td>\n",
       "      <td>married</td>\n",
       "      <td>40423</td>\n",
       "      <td>NaN</td>\n",
       "      <td>both</td>\n",
       "      <td>South</td>\n",
       "      <td>High-activity</td>\n",
       "      <td>Adult</td>\n",
       "    </tr>\n",
       "  </tbody>\n",
       "</table>\n",
       "<p>5 rows × 37 columns</p>\n",
       "</div>"
      ],
      "text/plain": [
       "   order_id  user_id  order_number  order_day_of_week  order_hour_of_day  \\\n",
       "0   2539329        1             1                  2                  8   \n",
       "1    473747        1             3                  3                 12   \n",
       "2   2254736        1             4                  4                  7   \n",
       "3    550135        1             7                  1                  9   \n",
       "4   2539329        1             1                  2                  8   \n",
       "\n",
       "   days_since_prior_order  product_id  add_to_cart_order  reordered  \\\n",
       "0                     NaN         196                  1          0   \n",
       "1                    21.0         196                  1          1   \n",
       "2                    29.0         196                  1          1   \n",
       "3                    20.0         196                  1          1   \n",
       "4                     NaN       12427                  3          0   \n",
       "\n",
       "          product_name  ...  age  datejoined  numofchildren maritalstatus  \\\n",
       "0                 Soda  ...   31   2/17/2019              3       married   \n",
       "1                 Soda  ...   31   2/17/2019              3       married   \n",
       "2                 Soda  ...   31   2/17/2019              3       married   \n",
       "3                 Soda  ...   31   2/17/2019              3       married   \n",
       "4  Original Beef Jerky  ...   31   2/17/2019              3       married   \n",
       "\n",
       "  income fullname _merge  region exclusion_flag  ageprofile  \n",
       "0  40423      NaN   both   South  High-activity       Adult  \n",
       "1  40423      NaN   both   South  High-activity       Adult  \n",
       "2  40423      NaN   both   South  High-activity       Adult  \n",
       "3  40423      NaN   both   South  High-activity       Adult  \n",
       "4  40423      NaN   both   South  High-activity       Adult  \n",
       "\n",
       "[5 rows x 37 columns]"
      ]
     },
     "execution_count": 59,
     "metadata": {},
     "output_type": "execute_result"
    }
   ],
   "source": [
    "ords_cust_sample.head()"
   ]
  },
  {
   "cell_type": "code",
   "execution_count": 61,
   "id": "1c3606d4",
   "metadata": {},
   "outputs": [],
   "source": [
    "ords_cust_sample.to_pickle(os.path.join(path, '02 Data', 'Prepared Data', '4.10_finaldata.pkl'))"
   ]
  },
  {
   "cell_type": "code",
   "execution_count": null,
   "id": "fcd120df",
   "metadata": {},
   "outputs": [],
   "source": []
  }
 ],
 "metadata": {
  "kernelspec": {
   "display_name": "Python 3 (ipykernel)",
   "language": "python",
   "name": "python3"
  },
  "language_info": {
   "codemirror_mode": {
    "name": "ipython",
    "version": 3
   },
   "file_extension": ".py",
   "mimetype": "text/x-python",
   "name": "python",
   "nbconvert_exporter": "python",
   "pygments_lexer": "ipython3",
   "version": "3.9.12"
  }
 },
 "nbformat": 4,
 "nbformat_minor": 5
}
